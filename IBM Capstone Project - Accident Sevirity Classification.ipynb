{
 "cells": [
  {
   "cell_type": "markdown",
   "metadata": {},
   "source": [
    "# IDM Applied Data Science - Capstone Project\n",
    "This notebook will be used to construct the final project for the Data Science Professional Certificate by IBM. "
   ]
  },
  {
   "cell_type": "code",
   "execution_count": 2,
   "metadata": {},
   "outputs": [
    {
     "name": "stdout",
     "output_type": "stream",
     "text": [
      "Hello Capstone Project Course!-Predict Accident Sevirity\n"
     ]
    }
   ],
   "source": [
    "### THIS NOTEBOOK IS FOR PYTHON CAPSTONE PROJECT #####\n",
    "import pandas as pd\n",
    "import numpy as np\n",
    "\n",
    "print('Hello Capstone Project Course!-Predict Accident Sevirity')"
   ]
  },
  {
   "cell_type": "markdown",
   "metadata": {},
   "source": [
    "<div class=WordSection1>\n",
    "\n",
    "<p class=MsoListParagraph style='margin-left:.25in;text-indent:-.25in'><b><span\n",
    "style='font-size:14.0pt;line-height:107%'>1.<span style='font:7.0pt \"Times New Roman\"'>&nbsp;&nbsp;&nbsp;&nbsp;\n",
    "</span></span></b><b><span style='font-size:14.0pt;line-height:107%'>Introduction</span></b></p>\n",
    "\n",
    "<p class=MsoNormal><b><span style='font-size:12.0pt;line-height:107%'>Background</span></b></p>\n",
    "\n",
    "<p class=MsoNormal style='margin-left:.25in'>Imagine, you got a situation and\n",
    "you need to travel. However, you see the weather is wild. Now, is it better to\n",
    "drive? </p>\n",
    "\n",
    "<p class=MsoNormal style='margin-left:.25in'>You are working on a council\n",
    "office and you want to alert the people about the bad weather/bad road\n",
    "condition/bad lighting and provide any advice on Travel.</p>\n",
    "\n",
    "<p class=MsoNormal style='margin-left:.25in'>So, if there is any way we predict\n",
    "about the possible accidents and its severity based on the previous history of\n",
    "accidents and factors related to it. Yes, there is. That is what we are going\n",
    "to try in this project.</p>\n",
    "\n",
    "<p class=MsoNormal style='margin-left:.25in'>Using the accident history data, which\n",
    "has the details about weather, road, light conditions, severity, we are going\n",
    "to try is there any way we can predict accident severity and possibility.</p>\n",
    "\n",
    "<p class=MsoNormal><b><span style='font-size:12.0pt;line-height:107%'>Scope</span></b></p>\n",
    "\n",
    "<p class=MsoNormal style='margin-left:.25in'>This project’s objective is to\n",
    "predict Severity of accident based on data that help severity of accident\n",
    "include Address type, Weather condition, Road condition, Junction type and\n",
    "Light condition. </p>\n",
    "\n",
    "<p class=MsoNormal><b><span style='font-size:12.0pt;line-height:107%'>Target\n",
    "Audience</span></b></p>\n",
    "\n",
    "<p style='margin-top:0in;margin-right:0in;margin-bottom:24.0pt;margin-left:\n",
    ".25in;background:white;box-sizing: inherit;font-variant-ligatures: normal;\n",
    "font-variant-caps: normal;orphans: 2;text-align:start;widows: 2;-webkit-text-stroke-width: 0px;\n",
    "text-decoration-style: initial;text-decoration-color: initial;word-spacing:\n",
    "0px' data-adtags-visited=true><span style='font-size:11.0pt;font-family:\"Calibri\",sans-serif;\n",
    "color:black'>The project potentially will help people, local government, Police\n",
    "and emergency departments, Engineers who design the roads. The project and\n",
    "result will provide some insights to audience and help to make decisions in\n",
    "reducing the number of accidents in their area.</span></p>\n",
    "\n",
    "<p class=MsoListParagraph style='margin-left:.25in;text-indent:-.25in'><b><span\n",
    "style='font-size:14.0pt;line-height:107%'>2.<span style='font:7.0pt \"Times New Roman\"'>&nbsp;&nbsp;&nbsp;&nbsp;\n",
    "</span></span></b><b><span style='font-size:14.0pt;line-height:107%'>Data</span></b></p>\n",
    "\n",
    "<p class=MsoNormal>For this project, the data provided by the Seattle\n",
    "Department of Transportation (SDOT) is used and the same can be downloaded from\n",
    "here from <a\n",
    "href=\"https://s3.us.cloud-object-storage.appdomain.cloud/cf-courses-data/CognitiveClass/DP0701EN/version-2/Data-Collisions.csv\">here</a>.\n",
    "The data has the key information that include Severity of the accident, Incident\n",
    "Date/Time, number of vehicles and persons involved in accidents, Road type and\n",
    "conditions, Weather and light conditions. </p>\n",
    "\n",
    "<p class=MsoNormal>This dataset has details about 194k accident details. Each\n",
    "accident is defined by 38 different attributes (features). The metadata of the\n",
    "features are given <a\n",
    "href=\"https://s3.us.cloud-object-storage.appdomain.cloud/cf-courses-data/CognitiveClass/DP0701EN/version-2/Metadata.pdf\">here</a>.</p>\n",
    "\n",
    "<p class=MsoNormal>As part of the project we are going to predict the <b>Severity\n",
    "of the accident</b> (feature name: <b><span style='font-family:\"Segoe UI\",sans-serif;\n",
    "color:#08090A;background:white'>SEVERITYCODE</span></span></b><span\n",
    "style='font-size:15.0pt;line-height:107%;font-family:\"Segoe UI\",sans-serif;\n",
    "color:#08090A;background:white'>). </span></p>\n",
    "\n",
    "<p class=MsoNormal>So, the predictor is going to be <b><span style='font-family:\n",
    "\"Segoe UI\",sans-serif;color:#08090A;background:white'>SEVERITYCODE</span>. </span></b>The\n",
    "values of the predictor will range between 0 to 3. The definition is given\n",
    "below<span style='font-family:\"Segoe UI\",sans-serif;color:#08090A;background:\n",
    "white'> </span></p>\n",
    "\n",
    "<p class=hh style='margin-top:24.0pt;margin-right:0in;margin-bottom:0in;\n",
    "margin-left:22.5pt;text-indent:-.25in;background:white'><span style='font-size:\n",
    "10.0pt;font-family:Symbol;color:#292929;letter-spacing:-.05pt'>·<span\n",
    "style='font:7.0pt \"Times New Roman\"'>&nbsp;&nbsp;&nbsp;&nbsp;&nbsp;&nbsp; </span></span><span\n",
    "style='font-size:11.0pt;font-family:\"Georgia\",serif;color:#292929;letter-spacing:\n",
    "-.05pt'>0: Unknown/no data</span></p>\n",
    "\n",
    "<p class=hh style='margin-top:12.6pt;margin-right:0in;margin-bottom:0in;\n",
    "margin-left:22.5pt;text-indent:-.25in;background:white'><span style='font-size:\n",
    "10.0pt;font-family:Symbol;color:#292929;letter-spacing:-.05pt'>·<span\n",
    "style='font:7.0pt \"Times New Roman\"'>&nbsp;&nbsp;&nbsp;&nbsp;&nbsp;&nbsp; </span></span><span\n",
    "style='font-size:11.0pt;font-family:\"Georgia\",serif;color:#292929;letter-spacing:\n",
    "-.05pt'>1: Property damage only</span></p>\n",
    "\n",
    "<p class=hh style='margin-top:12.6pt;margin-right:0in;margin-bottom:0in;\n",
    "margin-left:22.5pt;text-indent:-.25in;background:white'><span style='font-size:\n",
    "10.0pt;font-family:Symbol;color:#292929;letter-spacing:-.05pt'>·<span\n",
    "style='font:7.0pt \"Times New Roman\"'>&nbsp;&nbsp;&nbsp;&nbsp;&nbsp;&nbsp; </span></span><span\n",
    "style='font-size:11.0pt;font-family:\"Georgia\",serif;color:#292929;letter-spacing:\n",
    "-.05pt'>2: Minor injury collision</span></p>\n",
    "\n",
    "<p class=hh style='margin-top:12.6pt;margin-right:0in;margin-bottom:0in;\n",
    "margin-left:22.5pt;text-indent:-.25in;background:white'><span style='font-size:\n",
    "10.0pt;font-family:Symbol;color:#292929;letter-spacing:-.05pt'>·<span\n",
    "style='font:7.0pt \"Times New Roman\"'>&nbsp;&nbsp;&nbsp;&nbsp;&nbsp;&nbsp; </span></span><span\n",
    "style='font-size:11.0pt;font-family:\"Georgia\",serif;color:#292929;letter-spacing:\n",
    "-.05pt'>2b: Major injury collision</span></p>\n",
    "\n",
    "<p class=hh style='margin-top:12.6pt;margin-right:0in;margin-bottom:0in;\n",
    "margin-left:22.5pt;text-indent:-.25in;background:white'><span style='font-size:\n",
    "10.0pt;font-family:Symbol;color:#292929;letter-spacing:-.05pt'>·<span\n",
    "style='font:7.0pt \"Times New Roman\"'>&nbsp;&nbsp;&nbsp;&nbsp;&nbsp;&nbsp; </span></span><span\n",
    "style='font-size:11.0pt;font-family:\"Georgia\",serif;color:#292929;letter-spacing:\n",
    "-.05pt'>3: Fatality collision</span></p>\n",
    "\n",
    "<p class=MsoNormal><span style='font-size:15.0pt;line-height:107%;font-family:\n",
    "\"Segoe UI\",sans-serif;color:#08090A;background:white'>&nbsp;</span></p>\n",
    "\n",
    "<p class=MsoNormal>Based on the project objective, we would predominantly use\n",
    "the below features to predict the severity. </p>\n",
    "\n",
    "<table class=MsoTableGrid border=1 cellspacing=0 cellpadding=0\n",
    " style='border-collapse:collapse;border:none'>\n",
    " <tr>\n",
    "  <td width=312 valign=top style='width:233.75pt;border:solid windowtext 1.0pt;\n",
    "  padding:0in 5.4pt 0in 5.4pt'>\n",
    "  <p class=MsoNormal style='margin-bottom:0in;line-height:normal'><span\n",
    "  style='font-size:12.0pt;font-family:\"Segoe UI\",sans-serif;color:#08090A;\n",
    "  background:white'>Selected Features</span></p>\n",
    "  </td>\n",
    "  <td width=738 valign=top style='width:553.5pt;border:solid windowtext 1.0pt;\n",
    "  border-left:none;padding:0in 5.4pt 0in 5.4pt'>\n",
    "  <p class=MsoNormal style='margin-bottom:0in;line-height:normal'><span\n",
    "  style='font-size:12.0pt;font-family:\"Georgia\",serif;color:#232323;background:\n",
    "  white'>‘Severitycode’,‘Addrtype’, Junctiontype’,‘Weather’,\n",
    "  ‘Roadcond’,‘Lightcond’ </span></p>\n",
    "  </td>\n",
    " </tr>\n",
    " <tr>\n",
    "  <td width=312 valign=top style='width:233.75pt;border:solid windowtext 1.0pt;\n",
    "  border-top:none;padding:0in 5.4pt 0in 5.4pt'>\n",
    "  <p class=MsoNormal style='margin-bottom:0in;line-height:normal'><span\n",
    "  style='font-size:12.0pt;font-family:\"Segoe UI\",sans-serif;color:#08090A;\n",
    "  background:white'>Deleted Features</span></p>\n",
    "  </td>\n",
    "  <td width=738 valign=top style='width:553.5pt;border-top:none;border-left:\n",
    "  none;border-bottom:solid windowtext 1.0pt;border-right:solid windowtext 1.0pt;\n",
    "  padding:0in 5.4pt 0in 5.4pt'>\n",
    "  <p class=MsoNormal style='margin-bottom:0in;line-height:normal'><span\n",
    "  style='font-size:12.0pt;font-family:\"Georgia\",serif;color:#232323;background:\n",
    "  white'>‘X’, ‘Y’, ‘Coldetkey’, ‘Reportno’, ‘Intkey’, ‘Location’,\n",
    "  ‘Exceptrsncode’,&nbsp;&nbsp;&nbsp;&nbsp;&nbsp;&nbsp; ‘Exceptrsndesc’,\n",
    "  ‘Severitycode.1’, ‘Severitydesc’,&nbsp;&nbsp;&nbsp;\n",
    "  &nbsp;&nbsp;&nbsp;&nbsp;‘Incdate’,’Incdttm’, ‘, ‘Sdot_Colcode’,\n",
    "  ‘Sdot_Coldesc’,&nbsp;&nbsp;&nbsp;&nbsp; ‘Inattentionind’, ‘Underinfl’,\n",
    "  ‘Pedrownotgrnt’, Sdotcolnum’, ‘Speeding’, ‘St_Colcode’,\n",
    "  ‘St_Coldesc’,’Seglanekey’, ‘Crosswalkkey’, ‘Hitparkedcar’, ‘Personcount’,\n",
    "  ‘Pedcount’, ‘Pedcylcount’, ‘Vehcount’, ‘Objectid’, ‘Collisiontype’,’Status’</span></p>\n",
    "  </td>\n",
    " </tr>\n",
    "</table>\n",
    "\n",
    "<p class=MsoNormal><span style='font-size:15.0pt;line-height:107%;font-family:\n",
    "\"Segoe UI\",sans-serif;color:#08090A;background:white'>&nbsp;</span></p>\n",
    "\n",
    "<p class=MsoNormal>&nbsp;</p>\n",
    "\n",
    "</div>"
   ]
  },
  {
   "cell_type": "code",
   "execution_count": 4,
   "metadata": {},
   "outputs": [
    {
     "data": {
      "text/plain": [
       "(194673, 38)"
      ]
     },
     "execution_count": 4,
     "metadata": {},
     "output_type": "execute_result"
    }
   ],
   "source": [
    "### Reading data into Dataframe #####\n",
    "df=pd.read_csv('https://s3.us.cloud-object-storage.appdomain.cloud/cf-courses-data/CognitiveClass/DP0701EN/version-2/Data-Collisions.csv')\n"
   ]
  },
  {
   "cell_type": "code",
   "execution_count": 8,
   "metadata": {},
   "outputs": [
    {
     "name": "stdout",
     "output_type": "stream",
     "text": [
      "Number of Rows and columns in Dataset are: (194673, 38)\n"
     ]
    },
    {
     "data": {
      "text/plain": [
       "Index(['SEVERITYCODE', 'X', 'Y', 'OBJECTID', 'INCKEY', 'COLDETKEY', 'REPORTNO',\n",
       "       'STATUS', 'ADDRTYPE', 'INTKEY', 'LOCATION', 'EXCEPTRSNCODE',\n",
       "       'EXCEPTRSNDESC', 'SEVERITYCODE.1', 'SEVERITYDESC', 'COLLISIONTYPE',\n",
       "       'PERSONCOUNT', 'PEDCOUNT', 'PEDCYLCOUNT', 'VEHCOUNT', 'INCDATE',\n",
       "       'INCDTTM', 'JUNCTIONTYPE', 'SDOT_COLCODE', 'SDOT_COLDESC',\n",
       "       'INATTENTIONIND', 'UNDERINFL', 'WEATHER', 'ROADCOND', 'LIGHTCOND',\n",
       "       'PEDROWNOTGRNT', 'SDOTCOLNUM', 'SPEEDING', 'ST_COLCODE', 'ST_COLDESC',\n",
       "       'SEGLANEKEY', 'CROSSWALKKEY', 'HITPARKEDCAR'],\n",
       "      dtype='object')"
      ]
     },
     "execution_count": 8,
     "metadata": {},
     "output_type": "execute_result"
    }
   ],
   "source": [
    "### Check for the number of records and column information #####\n",
    "print ('Number of Rows and columns in Dataset are:', df.shape)\n",
    "\n",
    "### Display the Column information #####\n",
    "\n",
    "df.columns"
   ]
  },
  {
   "cell_type": "code",
   "execution_count": 12,
   "metadata": {},
   "outputs": [
    {
     "data": {
      "text/plain": [
       "1    136485\n",
       "2     58188\n",
       "Name: SEVERITYCODE, dtype: int64"
      ]
     },
     "execution_count": 12,
     "metadata": {},
     "output_type": "execute_result"
    }
   ],
   "source": [
    "### To check the different type of values in Severity Code #####\n",
    "df['SEVERITYCODE'].value_counts()"
   ]
  },
  {
   "cell_type": "markdown",
   "metadata": {},
   "source": [
    "# Create a dataframe which has only the selected features"
   ]
  },
  {
   "cell_type": "code",
   "execution_count": 25,
   "metadata": {},
   "outputs": [
    {
     "data": {
      "text/html": [
       "<div>\n",
       "<style scoped>\n",
       "    .dataframe tbody tr th:only-of-type {\n",
       "        vertical-align: middle;\n",
       "    }\n",
       "\n",
       "    .dataframe tbody tr th {\n",
       "        vertical-align: top;\n",
       "    }\n",
       "\n",
       "    .dataframe thead th {\n",
       "        text-align: right;\n",
       "    }\n",
       "</style>\n",
       "<table border=\"1\" class=\"dataframe\">\n",
       "  <thead>\n",
       "    <tr style=\"text-align: right;\">\n",
       "      <th></th>\n",
       "      <th>SEVERITYCODE</th>\n",
       "      <th>ADDRTYPE</th>\n",
       "      <th>JUNCTIONTYPE</th>\n",
       "      <th>WEATHER</th>\n",
       "      <th>ROADCOND</th>\n",
       "      <th>LIGHTCOND</th>\n",
       "    </tr>\n",
       "  </thead>\n",
       "  <tbody>\n",
       "    <tr>\n",
       "      <th>0</th>\n",
       "      <td>2</td>\n",
       "      <td>Intersection</td>\n",
       "      <td>At Intersection (intersection related)</td>\n",
       "      <td>Overcast</td>\n",
       "      <td>Wet</td>\n",
       "      <td>Daylight</td>\n",
       "    </tr>\n",
       "    <tr>\n",
       "      <th>1</th>\n",
       "      <td>1</td>\n",
       "      <td>Block</td>\n",
       "      <td>Mid-Block (not related to intersection)</td>\n",
       "      <td>Raining</td>\n",
       "      <td>Wet</td>\n",
       "      <td>Dark - Street Lights On</td>\n",
       "    </tr>\n",
       "    <tr>\n",
       "      <th>2</th>\n",
       "      <td>1</td>\n",
       "      <td>Block</td>\n",
       "      <td>Mid-Block (not related to intersection)</td>\n",
       "      <td>Overcast</td>\n",
       "      <td>Dry</td>\n",
       "      <td>Daylight</td>\n",
       "    </tr>\n",
       "    <tr>\n",
       "      <th>3</th>\n",
       "      <td>1</td>\n",
       "      <td>Block</td>\n",
       "      <td>Mid-Block (not related to intersection)</td>\n",
       "      <td>Clear</td>\n",
       "      <td>Dry</td>\n",
       "      <td>Daylight</td>\n",
       "    </tr>\n",
       "    <tr>\n",
       "      <th>4</th>\n",
       "      <td>2</td>\n",
       "      <td>Intersection</td>\n",
       "      <td>At Intersection (intersection related)</td>\n",
       "      <td>Raining</td>\n",
       "      <td>Wet</td>\n",
       "      <td>Daylight</td>\n",
       "    </tr>\n",
       "  </tbody>\n",
       "</table>\n",
       "</div>"
      ],
      "text/plain": [
       "   SEVERITYCODE      ADDRTYPE                             JUNCTIONTYPE  \\\n",
       "0             2  Intersection   At Intersection (intersection related)   \n",
       "1             1         Block  Mid-Block (not related to intersection)   \n",
       "2             1         Block  Mid-Block (not related to intersection)   \n",
       "3             1         Block  Mid-Block (not related to intersection)   \n",
       "4             2  Intersection   At Intersection (intersection related)   \n",
       "\n",
       "    WEATHER ROADCOND                LIGHTCOND  \n",
       "0  Overcast      Wet                 Daylight  \n",
       "1   Raining      Wet  Dark - Street Lights On  \n",
       "2  Overcast      Dry                 Daylight  \n",
       "3     Clear      Dry                 Daylight  \n",
       "4   Raining      Wet                 Daylight  "
      ]
     },
     "execution_count": 25,
     "metadata": {},
     "output_type": "execute_result"
    }
   ],
   "source": [
    "df_sev=df[['SEVERITYCODE','ADDRTYPE','JUNCTIONTYPE','WEATHER','ROADCOND', 'LIGHTCOND']]\n",
    "df_sev.head()"
   ]
  },
  {
   "cell_type": "code",
   "execution_count": 28,
   "metadata": {},
   "outputs": [
    {
     "data": {
      "text/plain": [
       "ADDRTYPE        1926\n",
       "JUNCTIONTYPE    6329\n",
       "WEATHER         5081\n",
       "ROADCOND        5012\n",
       "LIGHTCOND       5170\n",
       "dtype: int64"
      ]
     },
     "execution_count": 28,
     "metadata": {},
     "output_type": "execute_result"
    }
   ],
   "source": [
    "### To check the null values in each Column #####\n",
    "null_columns=df_sev.columns[df_sev.isnull().any()]\n",
    "\n",
    "df_sev[null_columns].isnull().sum()\n"
   ]
  },
  {
   "cell_type": "code",
   "execution_count": null,
   "metadata": {},
   "outputs": [],
   "source": []
  },
  {
   "cell_type": "code",
   "execution_count": null,
   "metadata": {},
   "outputs": [],
   "source": []
  }
 ],
 "metadata": {
  "kernelspec": {
   "display_name": "Python 3",
   "language": "python",
   "name": "python3"
  },
  "language_info": {
   "codemirror_mode": {
    "name": "ipython",
    "version": 3
   },
   "file_extension": ".py",
   "mimetype": "text/x-python",
   "name": "python",
   "nbconvert_exporter": "python",
   "pygments_lexer": "ipython3",
   "version": "3.7.6"
  }
 },
 "nbformat": 4,
 "nbformat_minor": 4
}
