{
 "cells": [
  {
   "cell_type": "markdown",
   "metadata": {},
   "source": [
    "# IDM Applied Data Science - Capstone Project\n",
    "This notebook will be used to construct the final project for the Data Science Professional Certificate by IBM. "
   ]
  },
  {
   "cell_type": "code",
   "execution_count": 64,
   "metadata": {},
   "outputs": [
    {
     "name": "stdout",
     "output_type": "stream",
     "text": [
      "Hello Capstone Project Course!-Predict Accident Sevirity\n"
     ]
    }
   ],
   "source": [
    "### THIS NOTEBOOK IS FOR PYTHON CAPSTONE PROJECT #####\n",
    "import pandas as pd\n",
    "import numpy as np\n",
    "\n",
    "print('Hello Capstone Project Course!-Predict Accident Sevirity')"
   ]
  },
  {
   "cell_type": "markdown",
   "metadata": {},
   "source": [
    "<div class=WordSection1>\n",
    "\n",
    "<p class=MsoListParagraph style='margin-left:.25in;text-indent:-.25in'><b><span\n",
    "style='font-size:14.0pt;line-height:107%'>1.<span style='font:7.0pt \"Times New Roman\"'>&nbsp;&nbsp;&nbsp;&nbsp;\n",
    "</span></span></b><b><span style='font-size:14.0pt;line-height:107%'>Introduction</span></b></p>\n",
    "\n",
    "<p class=MsoNormal><b><span style='font-size:12.0pt;line-height:107%'>Background</span></b></p>\n",
    "\n",
    "<p class=MsoNormal style='margin-left:.25in'>Imagine, you got a situation and\n",
    "you need to travel. However, you see the weather is wild. Now, is it better to\n",
    "drive? </p>\n",
    "\n",
    "<p class=MsoNormal style='margin-left:.25in'>You are working on a council\n",
    "office and you want to alert the people about the bad weather/bad road\n",
    "condition/bad lighting and provide any advice on Travel.</p>\n",
    "\n",
    "<p class=MsoNormal style='margin-left:.25in'>So, if there is any way we predict\n",
    "about the possible accidents and its severity based on the previous history of\n",
    "accidents and factors related to it. Yes, there is. That is what we are going\n",
    "to try in this project.</p>\n",
    "\n",
    "<p class=MsoNormal style='margin-left:.25in'>Using the accident history data, which\n",
    "has the details about weather, road, light conditions, severity, we are going\n",
    "to try is there any way we can predict accident severity and possibility.</p>\n",
    "\n",
    "<p class=MsoNormal><b><span style='font-size:12.0pt;line-height:107%'>Scope</span></b></p>\n",
    "\n",
    "<p class=MsoNormal style='margin-left:.25in'>This project’s objective is to\n",
    "predict Severity of accident based on data that help severity of accident\n",
    "include Address type, Weather condition, Road condition, Junction type and\n",
    "Light condition. </p>\n",
    "\n",
    "<p class=MsoNormal><b><span style='font-size:12.0pt;line-height:107%'>Target\n",
    "Audience</span></b></p>\n",
    "\n",
    "<p style='margin-top:0in;margin-right:0in;margin-bottom:24.0pt;margin-left:\n",
    ".25in;background:white;box-sizing: inherit;font-variant-ligatures: normal;\n",
    "font-variant-caps: normal;orphans: 2;text-align:start;widows: 2;-webkit-text-stroke-width: 0px;\n",
    "text-decoration-style: initial;text-decoration-color: initial;word-spacing:\n",
    "0px' data-adtags-visited=true><span style='font-size:11.0pt;font-family:\"Calibri\",sans-serif;\n",
    "color:black'>The project potentially will help people, local government, Police\n",
    "and emergency departments, Engineers who design the roads. The project and\n",
    "result will provide some insights to audience and help to make decisions in\n",
    "reducing the number of accidents in their area.</span></p>\n",
    "\n",
    "<p class=MsoListParagraph style='margin-left:.25in;text-indent:-.25in'><b><span\n",
    "style='font-size:14.0pt;line-height:107%'>2.<span style='font:7.0pt \"Times New Roman\"'>&nbsp;&nbsp;&nbsp;&nbsp;\n",
    "</span></span></b><b><span style='font-size:14.0pt;line-height:107%'>Data</span></b></p>\n",
    "\n",
    "<p class=MsoNormal>For this project, the data provided by the Seattle\n",
    "Department of Transportation (SDOT) is used and the same can be downloaded from\n",
    "here from <a\n",
    "href=\"https://s3.us.cloud-object-storage.appdomain.cloud/cf-courses-data/CognitiveClass/DP0701EN/version-2/Data-Collisions.csv\">here</a>.\n",
    "The data has the key information that include Severity of the accident, Incident\n",
    "Date/Time, number of vehicles and persons involved in accidents, Road type and\n",
    "conditions, Weather and light conditions. </p>\n",
    "\n",
    "<p class=MsoNormal>This dataset has details about 194k accident details. Each\n",
    "accident is defined by 38 different attributes (features). The metadata of the\n",
    "features are given <a\n",
    "href=\"https://s3.us.cloud-object-storage.appdomain.cloud/cf-courses-data/CognitiveClass/DP0701EN/version-2/Metadata.pdf\">here</a>.</p>\n",
    "\n",
    "<p class=MsoNormal>As part of the project we are going to predict the <b>Severity\n",
    "of the accident</b> (feature name: <b><span style='font-family:\"Segoe UI\",sans-serif;\n",
    "color:#08090A;background:white'>SEVERITYCODE</span></span></b><span\n",
    "style='font-size:15.0pt;line-height:107%;font-family:\"Segoe UI\",sans-serif;\n",
    "color:#08090A;background:white'>). </span></p>\n",
    "\n",
    "<p class=MsoNormal>So, the predictor is going to be <b><span style='font-family:\n",
    "\"Segoe UI\",sans-serif;color:#08090A;background:white'>SEVERITYCODE</span>. </span></b>The\n",
    "values of the predictor will range between 0 to 3. The definition is given\n",
    "below<span style='font-family:\"Segoe UI\",sans-serif;color:#08090A;background:\n",
    "white'> </span></p>\n",
    "\n",
    "<p class=hh style='margin-top:24.0pt;margin-right:0in;margin-bottom:0in;\n",
    "margin-left:22.5pt;text-indent:-.25in;background:white'><span style='font-size:\n",
    "10.0pt;font-family:Symbol;color:#292929;letter-spacing:-.05pt'>·<span\n",
    "style='font:7.0pt \"Times New Roman\"'>&nbsp;&nbsp;&nbsp;&nbsp;&nbsp;&nbsp; </span></span><span\n",
    "style='font-size:11.0pt;font-family:\"Georgia\",serif;color:#292929;letter-spacing:\n",
    "-.05pt'>0: Unknown/no data</span></p>\n",
    "\n",
    "<p class=hh style='margin-top:12.6pt;margin-right:0in;margin-bottom:0in;\n",
    "margin-left:22.5pt;text-indent:-.25in;background:white'><span style='font-size:\n",
    "10.0pt;font-family:Symbol;color:#292929;letter-spacing:-.05pt'>·<span\n",
    "style='font:7.0pt \"Times New Roman\"'>&nbsp;&nbsp;&nbsp;&nbsp;&nbsp;&nbsp; </span></span><span\n",
    "style='font-size:11.0pt;font-family:\"Georgia\",serif;color:#292929;letter-spacing:\n",
    "-.05pt'>1: Property damage only</span></p>\n",
    "\n",
    "<p class=hh style='margin-top:12.6pt;margin-right:0in;margin-bottom:0in;\n",
    "margin-left:22.5pt;text-indent:-.25in;background:white'><span style='font-size:\n",
    "10.0pt;font-family:Symbol;color:#292929;letter-spacing:-.05pt'>·<span\n",
    "style='font:7.0pt \"Times New Roman\"'>&nbsp;&nbsp;&nbsp;&nbsp;&nbsp;&nbsp; </span></span><span\n",
    "style='font-size:11.0pt;font-family:\"Georgia\",serif;color:#292929;letter-spacing:\n",
    "-.05pt'>2: Minor injury collision</span></p>\n",
    "\n",
    "<p class=hh style='margin-top:12.6pt;margin-right:0in;margin-bottom:0in;\n",
    "margin-left:22.5pt;text-indent:-.25in;background:white'><span style='font-size:\n",
    "10.0pt;font-family:Symbol;color:#292929;letter-spacing:-.05pt'>·<span\n",
    "style='font:7.0pt \"Times New Roman\"'>&nbsp;&nbsp;&nbsp;&nbsp;&nbsp;&nbsp; </span></span><span\n",
    "style='font-size:11.0pt;font-family:\"Georgia\",serif;color:#292929;letter-spacing:\n",
    "-.05pt'>2b: Major injury collision</span></p>\n",
    "\n",
    "<p class=hh style='margin-top:12.6pt;margin-right:0in;margin-bottom:0in;\n",
    "margin-left:22.5pt;text-indent:-.25in;background:white'><span style='font-size:\n",
    "10.0pt;font-family:Symbol;color:#292929;letter-spacing:-.05pt'>·<span\n",
    "style='font:7.0pt \"Times New Roman\"'>&nbsp;&nbsp;&nbsp;&nbsp;&nbsp;&nbsp; </span></span><span\n",
    "style='font-size:11.0pt;font-family:\"Georgia\",serif;color:#292929;letter-spacing:\n",
    "-.05pt'>3: Fatality collision</span></p>\n",
    "\n",
    "<p class=MsoNormal><span style='font-size:15.0pt;line-height:107%;font-family:\n",
    "\"Segoe UI\",sans-serif;color:#08090A;background:white'>&nbsp;</span></p>\n",
    "\n",
    "<p class=MsoNormal>Based on the project objective, we would predominantly use\n",
    "the below features to predict the severity. </p>\n",
    "\n",
    "<table class=MsoTableGrid border=1 cellspacing=0 cellpadding=0\n",
    " style='border-collapse:collapse;border:none'>\n",
    " <tr>\n",
    "  <td width=312 valign=top style='width:233.75pt;border:solid windowtext 1.0pt;\n",
    "  padding:0in 5.4pt 0in 5.4pt'>\n",
    "  <p class=MsoNormal style='margin-bottom:0in;line-height:normal'><span\n",
    "  style='font-size:12.0pt;font-family:\"Segoe UI\",sans-serif;color:#08090A;\n",
    "  background:white'>Selected Features</span></p>\n",
    "  </td>\n",
    "  <td width=738 valign=top style='width:553.5pt;border:solid windowtext 1.0pt;\n",
    "  border-left:none;padding:0in 5.4pt 0in 5.4pt'>\n",
    "  <p class=MsoNormal style='margin-bottom:0in;line-height:normal'><span\n",
    "  style='font-size:12.0pt;font-family:\"Georgia\",serif;color:#232323;background:\n",
    "  white'>‘Severitycode’,‘Addrtype’, Junctiontype’,‘Weather’,\n",
    "  ‘Roadcond’,‘Lightcond’ </span></p>\n",
    "  </td>\n",
    " </tr>\n",
    " <tr>\n",
    "  <td width=312 valign=top style='width:233.75pt;border:solid windowtext 1.0pt;\n",
    "  border-top:none;padding:0in 5.4pt 0in 5.4pt'>\n",
    "  <p class=MsoNormal style='margin-bottom:0in;line-height:normal'><span\n",
    "  style='font-size:12.0pt;font-family:\"Segoe UI\",sans-serif;color:#08090A;\n",
    "  background:white'>Deleted Features</span></p>\n",
    "  </td>\n",
    "  <td width=738 valign=top style='width:553.5pt;border-top:none;border-left:\n",
    "  none;border-bottom:solid windowtext 1.0pt;border-right:solid windowtext 1.0pt;\n",
    "  padding:0in 5.4pt 0in 5.4pt'>\n",
    "  <p class=MsoNormal style='margin-bottom:0in;line-height:normal'><span\n",
    "  style='font-size:12.0pt;font-family:\"Georgia\",serif;color:#232323;background:\n",
    "  white'>‘X’, ‘Y’, ‘Coldetkey’, ‘Reportno’, ‘Intkey’, ‘Location’,\n",
    "  ‘Exceptrsncode’,&nbsp;&nbsp;&nbsp;&nbsp;&nbsp;&nbsp; ‘Exceptrsndesc’,\n",
    "  ‘Severitycode.1’, ‘Severitydesc’,&nbsp;&nbsp;&nbsp;\n",
    "  &nbsp;&nbsp;&nbsp;&nbsp;‘Incdate’,’Incdttm’, ‘, ‘Sdot_Colcode’,\n",
    "  ‘Sdot_Coldesc’,&nbsp;&nbsp;&nbsp;&nbsp; ‘Inattentionind’, ‘Underinfl’,\n",
    "  ‘Pedrownotgrnt’, Sdotcolnum’, ‘Speeding’, ‘St_Colcode’,\n",
    "  ‘St_Coldesc’,’Seglanekey’, ‘Crosswalkkey’, ‘Hitparkedcar’, ‘Personcount’,\n",
    "  ‘Pedcount’, ‘Pedcylcount’, ‘Vehcount’, ‘Objectid’, ‘Collisiontype’,’Status’</span></p>\n",
    "  </td>\n",
    " </tr>\n",
    "</table>\n",
    "\n",
    "<p class=MsoNormal><span style='font-size:15.0pt;line-height:107%;font-family:\n",
    "\"Segoe UI\",sans-serif;color:#08090A;background:white'>&nbsp;</span></p>\n",
    "\n",
    "<p class=MsoNormal>&nbsp;</p>\n",
    "\n",
    "</div>"
   ]
  },
  {
   "cell_type": "code",
   "execution_count": 65,
   "metadata": {},
   "outputs": [
    {
     "name": "stderr",
     "output_type": "stream",
     "text": [
      "C:\\Users\\venka\\anaconda3\\lib\\site-packages\\IPython\\core\\interactiveshell.py:3063: DtypeWarning: Columns (33) have mixed types.Specify dtype option on import or set low_memory=False.\n",
      "  interactivity=interactivity, compiler=compiler, result=result)\n"
     ]
    }
   ],
   "source": [
    "### Reading data into Dataframe #####\n",
    "df=pd.read_csv('https://s3.us.cloud-object-storage.appdomain.cloud/cf-courses-data/CognitiveClass/DP0701EN/version-2/Data-Collisions.csv')\n"
   ]
  },
  {
   "cell_type": "code",
   "execution_count": 66,
   "metadata": {},
   "outputs": [
    {
     "name": "stdout",
     "output_type": "stream",
     "text": [
      "Number of Rows and columns in Dataset are: (194673, 38)\n"
     ]
    },
    {
     "data": {
      "text/plain": [
       "Index(['SEVERITYCODE', 'X', 'Y', 'OBJECTID', 'INCKEY', 'COLDETKEY', 'REPORTNO',\n",
       "       'STATUS', 'ADDRTYPE', 'INTKEY', 'LOCATION', 'EXCEPTRSNCODE',\n",
       "       'EXCEPTRSNDESC', 'SEVERITYCODE.1', 'SEVERITYDESC', 'COLLISIONTYPE',\n",
       "       'PERSONCOUNT', 'PEDCOUNT', 'PEDCYLCOUNT', 'VEHCOUNT', 'INCDATE',\n",
       "       'INCDTTM', 'JUNCTIONTYPE', 'SDOT_COLCODE', 'SDOT_COLDESC',\n",
       "       'INATTENTIONIND', 'UNDERINFL', 'WEATHER', 'ROADCOND', 'LIGHTCOND',\n",
       "       'PEDROWNOTGRNT', 'SDOTCOLNUM', 'SPEEDING', 'ST_COLCODE', 'ST_COLDESC',\n",
       "       'SEGLANEKEY', 'CROSSWALKKEY', 'HITPARKEDCAR'],\n",
       "      dtype='object')"
      ]
     },
     "execution_count": 66,
     "metadata": {},
     "output_type": "execute_result"
    }
   ],
   "source": [
    "### Check for the number of records and column information #####\n",
    "print ('Number of Rows and columns in Dataset are:', df.shape)\n",
    "\n",
    "### Display the Column information #####\n",
    "\n",
    "df.columns"
   ]
  },
  {
   "cell_type": "markdown",
   "metadata": {},
   "source": [
    "## Trying to understand Target feature"
   ]
  },
  {
   "cell_type": "code",
   "execution_count": 67,
   "metadata": {},
   "outputs": [
    {
     "data": {
      "text/plain": [
       "1    136485\n",
       "2     58188\n",
       "Name: SEVERITYCODE, dtype: int64"
      ]
     },
     "execution_count": 67,
     "metadata": {},
     "output_type": "execute_result"
    }
   ],
   "source": [
    "### To check the different type of values in Severity Code #####\n",
    "df['SEVERITYCODE'].value_counts()"
   ]
  },
  {
   "cell_type": "markdown",
   "metadata": {},
   "source": [
    "# Create a dataframe which has only the selected features"
   ]
  },
  {
   "cell_type": "code",
   "execution_count": 68,
   "metadata": {},
   "outputs": [
    {
     "data": {
      "text/html": [
       "<div>\n",
       "<style scoped>\n",
       "    .dataframe tbody tr th:only-of-type {\n",
       "        vertical-align: middle;\n",
       "    }\n",
       "\n",
       "    .dataframe tbody tr th {\n",
       "        vertical-align: top;\n",
       "    }\n",
       "\n",
       "    .dataframe thead th {\n",
       "        text-align: right;\n",
       "    }\n",
       "</style>\n",
       "<table border=\"1\" class=\"dataframe\">\n",
       "  <thead>\n",
       "    <tr style=\"text-align: right;\">\n",
       "      <th></th>\n",
       "      <th>SEVERITYCODE</th>\n",
       "      <th>ADDRTYPE</th>\n",
       "      <th>JUNCTIONTYPE</th>\n",
       "      <th>WEATHER</th>\n",
       "      <th>ROADCOND</th>\n",
       "      <th>LIGHTCOND</th>\n",
       "    </tr>\n",
       "  </thead>\n",
       "  <tbody>\n",
       "    <tr>\n",
       "      <th>0</th>\n",
       "      <td>2</td>\n",
       "      <td>Intersection</td>\n",
       "      <td>At Intersection (intersection related)</td>\n",
       "      <td>Overcast</td>\n",
       "      <td>Wet</td>\n",
       "      <td>Daylight</td>\n",
       "    </tr>\n",
       "    <tr>\n",
       "      <th>1</th>\n",
       "      <td>1</td>\n",
       "      <td>Block</td>\n",
       "      <td>Mid-Block (not related to intersection)</td>\n",
       "      <td>Raining</td>\n",
       "      <td>Wet</td>\n",
       "      <td>Dark - Street Lights On</td>\n",
       "    </tr>\n",
       "    <tr>\n",
       "      <th>2</th>\n",
       "      <td>1</td>\n",
       "      <td>Block</td>\n",
       "      <td>Mid-Block (not related to intersection)</td>\n",
       "      <td>Overcast</td>\n",
       "      <td>Dry</td>\n",
       "      <td>Daylight</td>\n",
       "    </tr>\n",
       "    <tr>\n",
       "      <th>3</th>\n",
       "      <td>1</td>\n",
       "      <td>Block</td>\n",
       "      <td>Mid-Block (not related to intersection)</td>\n",
       "      <td>Clear</td>\n",
       "      <td>Dry</td>\n",
       "      <td>Daylight</td>\n",
       "    </tr>\n",
       "    <tr>\n",
       "      <th>4</th>\n",
       "      <td>2</td>\n",
       "      <td>Intersection</td>\n",
       "      <td>At Intersection (intersection related)</td>\n",
       "      <td>Raining</td>\n",
       "      <td>Wet</td>\n",
       "      <td>Daylight</td>\n",
       "    </tr>\n",
       "  </tbody>\n",
       "</table>\n",
       "</div>"
      ],
      "text/plain": [
       "   SEVERITYCODE      ADDRTYPE                             JUNCTIONTYPE  \\\n",
       "0             2  Intersection   At Intersection (intersection related)   \n",
       "1             1         Block  Mid-Block (not related to intersection)   \n",
       "2             1         Block  Mid-Block (not related to intersection)   \n",
       "3             1         Block  Mid-Block (not related to intersection)   \n",
       "4             2  Intersection   At Intersection (intersection related)   \n",
       "\n",
       "    WEATHER ROADCOND                LIGHTCOND  \n",
       "0  Overcast      Wet                 Daylight  \n",
       "1   Raining      Wet  Dark - Street Lights On  \n",
       "2  Overcast      Dry                 Daylight  \n",
       "3     Clear      Dry                 Daylight  \n",
       "4   Raining      Wet                 Daylight  "
      ]
     },
     "execution_count": 68,
     "metadata": {},
     "output_type": "execute_result"
    }
   ],
   "source": [
    "df_sev=df[['SEVERITYCODE','ADDRTYPE','JUNCTIONTYPE','WEATHER','ROADCOND', 'LIGHTCOND']]\n",
    "df_sev.head()"
   ]
  },
  {
   "cell_type": "markdown",
   "metadata": {},
   "source": [
    "# Exploratory Data Analysis & Data Cleaning\n",
    "### Checking for Null Values in feature\n",
    "### Explore the type and values of selected features"
   ]
  },
  {
   "cell_type": "code",
   "execution_count": 69,
   "metadata": {},
   "outputs": [
    {
     "data": {
      "text/plain": [
       "ADDRTYPE        1926\n",
       "JUNCTIONTYPE    6329\n",
       "WEATHER         5081\n",
       "ROADCOND        5012\n",
       "LIGHTCOND       5170\n",
       "dtype: int64"
      ]
     },
     "execution_count": 69,
     "metadata": {},
     "output_type": "execute_result"
    }
   ],
   "source": [
    "### To check the null values in each Column #####\n",
    "null_columns=df_sev.columns[df_sev.isnull().any()]\n",
    "df_sev[null_columns].isnull().sum()\n"
   ]
  },
  {
   "cell_type": "code",
   "execution_count": 39,
   "metadata": {},
   "outputs": [
    {
     "data": {
      "text/plain": [
       "Clear                       111135\n",
       "Raining                      33145\n",
       "Overcast                     27714\n",
       "Unknown                      15091\n",
       "Snowing                        907\n",
       "Other                          832\n",
       "Fog/Smog/Smoke                 569\n",
       "Sleet/Hail/Freezing Rain       113\n",
       "Blowing Sand/Dirt               56\n",
       "Severe Crosswind                25\n",
       "Partly Cloudy                    5\n",
       "Name: WEATHER, dtype: int64"
      ]
     },
     "execution_count": 39,
     "metadata": {},
     "output_type": "execute_result"
    }
   ],
   "source": [
    "df_sev['WEATHER'].value_counts()"
   ]
  },
  {
   "cell_type": "code",
   "execution_count": 70,
   "metadata": {},
   "outputs": [
    {
     "data": {
      "text/plain": [
       "<matplotlib.axes._subplots.AxesSubplot at 0x200cade4988>"
      ]
     },
     "execution_count": 70,
     "metadata": {},
     "output_type": "execute_result"
    },
    {
     "data": {
      "image/png": "[encoded data removed]",
      "text/plain": [
       "<Figure size 432x288 with 1 Axes>"
      ]
     },
     "metadata": {
      "needs_background": "light"
     },
     "output_type": "display_data"
    }
   ],
   "source": [
    "df_sev['ROADCOND'].value_counts().plot(kind='bar')"
   ]
  },
  {
   "cell_type": "code",
   "execution_count": 38,
   "metadata": {},
   "outputs": [
    {
     "data": {
      "text/plain": [
       "<matplotlib.axes._subplots.AxesSubplot at 0x200dd455208>"
      ]
     },
     "execution_count": 38,
     "metadata": {},
     "output_type": "execute_result"
    },
    {
     "data": {
      "image/png": "[encoded data removed]",
      "text/plain": [
       "<Figure size 432x288 with 1 Axes>"
      ]
     },
     "metadata": {
      "needs_background": "light"
     },
     "output_type": "display_data"
    }
   ],
   "source": [
    "df_sev['LIGHTCOND'].value_counts().plot(kind='bar')"
   ]
  },
  {
   "cell_type": "markdown",
   "metadata": {},
   "source": [
    "# Data Cleaning"
   ]
  },
  {
   "cell_type": "markdown",
   "metadata": {},
   "source": [
    "<p class=MsoNormal><strong><span style='font-size:10.5pt;line-height:107%;\n",
    "font-family:\"Helvetica\",sans-serif;color:black;background:white'>Rows which are\n",
    "missing information about some of the features which we expect will be key to\n",
    "building the model:</span></strong><span style='font-size:10.5pt;line-height:\n",
    "107%;font-family:\"Helvetica\",sans-serif;color:black;background:white'><span\n",
    "style='font-variant-ligatures: normal;font-variant-caps: normal;orphans: 2;\n",
    "widows: 2;-webkit-text-stroke-width: 0px;text-decoration-style: initial;\n",
    "text-decoration-color: initial;float:none;word-spacing:0px'>&nbsp;as we there\n",
    "are , a number of accidents have &quot;Unknown&quot; values for attributes like&nbsp;</span><em\n",
    "style='font-variant-ligatures: normal;font-variant-caps: normal;orphans: 2;\n",
    "widows: 2;-webkit-text-stroke-width: 0px;text-decoration-style: initial;\n",
    "text-decoration-color: initial;word-spacing:0px'><span style='font-family:\"Helvetica\",sans-serif'>WEATHER</span></em><span\n",
    "style='font-variant-ligatures: normal;font-variant-caps: normal;orphans: 2;\n",
    "widows: 2;-webkit-text-stroke-width: 0px;text-decoration-style: initial;\n",
    "text-decoration-color: initial;float:none;word-spacing:0px'>&nbsp;,&nbsp;</span><em\n",
    "style='font-variant-ligatures: normal;font-variant-caps: normal;orphans: 2;\n",
    "widows: 2;-webkit-text-stroke-width: 0px;text-decoration-style: initial;\n",
    "text-decoration-color: initial;word-spacing:0px'><span style='font-family:\"Helvetica\",sans-serif'>ROADCOND</span></em><span\n",
    "style='font-variant-ligatures: normal;font-variant-caps: normal;orphans: 2;\n",
    "widows: 2;-webkit-text-stroke-width: 0px;text-decoration-style: initial;\n",
    "text-decoration-color: initial;float:none;word-spacing:0px'>&nbsp;and&nbsp;</span><em\n",
    "style='font-variant-ligatures: normal;font-variant-caps: normal;orphans: 2;\n",
    "widows: 2;-webkit-text-stroke-width: 0px;text-decoration-style: initial;\n",
    "text-decoration-color: initial;word-spacing:0px'><span style='font-family:\"Helvetica\",sans-serif'>LIGHTCOND</span></em><span\n",
    "style='font-variant-ligatures: normal;font-variant-caps: normal;orphans: 2;\n",
    "widows: 2;-webkit-text-stroke-width: 0px;text-decoration-style: initial;\n",
    "text-decoration-color: initial;float:none;word-spacing:0px'>&nbsp;, or have\n",
    "these fields blank/NaN, which in practice means the same thing. As these are\n",
    "expected to be among the features which influence the likelihood and severity\n",
    "of accidents, we must consider discarding these rows before training the model.</span></span></p>\n",
    "\n",
    "<p class=MsoNormal><span style='font-size:15.0pt;line-height:107%;font-family:\n",
    "\"Segoe UI\",sans-serif;color:#08090A;background:white'>&nbsp;</span></p>"
   ]
  },
  {
   "cell_type": "code",
   "execution_count": 71,
   "metadata": {},
   "outputs": [
    {
     "data": {
      "text/plain": [
       "SEVERITYCODE       0\n",
       "ADDRTYPE        1926\n",
       "JUNCTIONTYPE    6329\n",
       "WEATHER         5081\n",
       "ROADCOND        5012\n",
       "LIGHTCOND       5170\n",
       "dtype: int64"
      ]
     },
     "execution_count": 71,
     "metadata": {},
     "output_type": "execute_result"
    }
   ],
   "source": [
    "##############  CHECK FOR NULL VALUES IN KEY COLUMNS######\n",
    "df_sev.isnull().sum()"
   ]
  },
  {
   "cell_type": "code",
   "execution_count": 72,
   "metadata": {
    "scrolled": true
   },
   "outputs": [
    {
     "name": "stderr",
     "output_type": "stream",
     "text": [
      "C:\\Users\\venka\\anaconda3\\lib\\site-packages\\ipykernel_launcher.py:2: SettingWithCopyWarning: \n",
      "A value is trying to be set on a copy of a slice from a DataFrame.\n",
      "Try using .loc[row_indexer,col_indexer] = value instead\n",
      "\n",
      "See the caveats in the documentation: https://pandas.pydata.org/pandas-docs/stable/user_guide/indexing.html#returning-a-view-versus-a-copy\n",
      "  \n",
      "C:\\Users\\venka\\anaconda3\\lib\\site-packages\\ipykernel_launcher.py:3: SettingWithCopyWarning: \n",
      "A value is trying to be set on a copy of a slice from a DataFrame.\n",
      "Try using .loc[row_indexer,col_indexer] = value instead\n",
      "\n",
      "See the caveats in the documentation: https://pandas.pydata.org/pandas-docs/stable/user_guide/indexing.html#returning-a-view-versus-a-copy\n",
      "  This is separate from the ipykernel package so we can avoid doing imports until\n",
      "C:\\Users\\venka\\anaconda3\\lib\\site-packages\\ipykernel_launcher.py:5: SettingWithCopyWarning: \n",
      "A value is trying to be set on a copy of a slice from a DataFrame.\n",
      "Try using .loc[row_indexer,col_indexer] = value instead\n",
      "\n",
      "See the caveats in the documentation: https://pandas.pydata.org/pandas-docs/stable/user_guide/indexing.html#returning-a-view-versus-a-copy\n",
      "  \"\"\"\n",
      "C:\\Users\\venka\\anaconda3\\lib\\site-packages\\ipykernel_launcher.py:6: SettingWithCopyWarning: \n",
      "A value is trying to be set on a copy of a slice from a DataFrame.\n",
      "Try using .loc[row_indexer,col_indexer] = value instead\n",
      "\n",
      "See the caveats in the documentation: https://pandas.pydata.org/pandas-docs/stable/user_guide/indexing.html#returning-a-view-versus-a-copy\n",
      "  \n",
      "C:\\Users\\venka\\anaconda3\\lib\\site-packages\\ipykernel_launcher.py:8: SettingWithCopyWarning: \n",
      "A value is trying to be set on a copy of a slice from a DataFrame.\n",
      "Try using .loc[row_indexer,col_indexer] = value instead\n",
      "\n",
      "See the caveats in the documentation: https://pandas.pydata.org/pandas-docs/stable/user_guide/indexing.html#returning-a-view-versus-a-copy\n",
      "  \n",
      "C:\\Users\\venka\\anaconda3\\lib\\site-packages\\ipykernel_launcher.py:9: SettingWithCopyWarning: \n",
      "A value is trying to be set on a copy of a slice from a DataFrame.\n",
      "Try using .loc[row_indexer,col_indexer] = value instead\n",
      "\n",
      "See the caveats in the documentation: https://pandas.pydata.org/pandas-docs/stable/user_guide/indexing.html#returning-a-view-versus-a-copy\n",
      "  if __name__ == '__main__':\n",
      "C:\\Users\\venka\\anaconda3\\lib\\site-packages\\ipykernel_launcher.py:11: SettingWithCopyWarning: \n",
      "A value is trying to be set on a copy of a slice from a DataFrame.\n",
      "Try using .loc[row_indexer,col_indexer] = value instead\n",
      "\n",
      "See the caveats in the documentation: https://pandas.pydata.org/pandas-docs/stable/user_guide/indexing.html#returning-a-view-versus-a-copy\n",
      "  # This is added back by InteractiveShellApp.init_path()\n",
      "C:\\Users\\venka\\anaconda3\\lib\\site-packages\\ipykernel_launcher.py:12: SettingWithCopyWarning: \n",
      "A value is trying to be set on a copy of a slice from a DataFrame.\n",
      "Try using .loc[row_indexer,col_indexer] = value instead\n",
      "\n",
      "See the caveats in the documentation: https://pandas.pydata.org/pandas-docs/stable/user_guide/indexing.html#returning-a-view-versus-a-copy\n",
      "  if sys.path[0] == '':\n",
      "C:\\Users\\venka\\anaconda3\\lib\\site-packages\\ipykernel_launcher.py:14: SettingWithCopyWarning: \n",
      "A value is trying to be set on a copy of a slice from a DataFrame.\n",
      "Try using .loc[row_indexer,col_indexer] = value instead\n",
      "\n",
      "See the caveats in the documentation: https://pandas.pydata.org/pandas-docs/stable/user_guide/indexing.html#returning-a-view-versus-a-copy\n",
      "  \n",
      "C:\\Users\\venka\\anaconda3\\lib\\site-packages\\ipykernel_launcher.py:15: SettingWithCopyWarning: \n",
      "A value is trying to be set on a copy of a slice from a DataFrame.\n",
      "Try using .loc[row_indexer,col_indexer] = value instead\n",
      "\n",
      "See the caveats in the documentation: https://pandas.pydata.org/pandas-docs/stable/user_guide/indexing.html#returning-a-view-versus-a-copy\n",
      "  from ipykernel import kernelapp as app\n"
     ]
    },
    {
     "data": {
      "text/html": [
       "<div>\n",
       "<style scoped>\n",
       "    .dataframe tbody tr th:only-of-type {\n",
       "        vertical-align: middle;\n",
       "    }\n",
       "\n",
       "    .dataframe tbody tr th {\n",
       "        vertical-align: top;\n",
       "    }\n",
       "\n",
       "    .dataframe thead th {\n",
       "        text-align: right;\n",
       "    }\n",
       "</style>\n",
       "<table border=\"1\" class=\"dataframe\">\n",
       "  <thead>\n",
       "    <tr style=\"text-align: right;\">\n",
       "      <th></th>\n",
       "      <th>SEVERITYCODE</th>\n",
       "      <th>ADDRTYPE</th>\n",
       "      <th>JUNCTIONTYPE</th>\n",
       "      <th>WEATHER</th>\n",
       "      <th>ROADCOND</th>\n",
       "      <th>LIGHTCOND</th>\n",
       "    </tr>\n",
       "  </thead>\n",
       "  <tbody>\n",
       "    <tr>\n",
       "      <th>0</th>\n",
       "      <td>2</td>\n",
       "      <td>Intersection</td>\n",
       "      <td>At Intersection (intersection related)</td>\n",
       "      <td>Overcast</td>\n",
       "      <td>Wet</td>\n",
       "      <td>Daylight</td>\n",
       "    </tr>\n",
       "    <tr>\n",
       "      <th>1</th>\n",
       "      <td>1</td>\n",
       "      <td>Block</td>\n",
       "      <td>Mid-Block (not related to intersection)</td>\n",
       "      <td>Raining</td>\n",
       "      <td>Wet</td>\n",
       "      <td>Dark - Street Lights On</td>\n",
       "    </tr>\n",
       "    <tr>\n",
       "      <th>2</th>\n",
       "      <td>1</td>\n",
       "      <td>Block</td>\n",
       "      <td>Mid-Block (not related to intersection)</td>\n",
       "      <td>Overcast</td>\n",
       "      <td>Dry</td>\n",
       "      <td>Daylight</td>\n",
       "    </tr>\n",
       "    <tr>\n",
       "      <th>3</th>\n",
       "      <td>1</td>\n",
       "      <td>Block</td>\n",
       "      <td>Mid-Block (not related to intersection)</td>\n",
       "      <td>Clear</td>\n",
       "      <td>Dry</td>\n",
       "      <td>Daylight</td>\n",
       "    </tr>\n",
       "    <tr>\n",
       "      <th>4</th>\n",
       "      <td>2</td>\n",
       "      <td>Intersection</td>\n",
       "      <td>At Intersection (intersection related)</td>\n",
       "      <td>Raining</td>\n",
       "      <td>Wet</td>\n",
       "      <td>Daylight</td>\n",
       "    </tr>\n",
       "  </tbody>\n",
       "</table>\n",
       "</div>"
      ],
      "text/plain": [
       "   SEVERITYCODE      ADDRTYPE                             JUNCTIONTYPE  \\\n",
       "0             2  Intersection   At Intersection (intersection related)   \n",
       "1             1         Block  Mid-Block (not related to intersection)   \n",
       "2             1         Block  Mid-Block (not related to intersection)   \n",
       "3             1         Block  Mid-Block (not related to intersection)   \n",
       "4             2  Intersection   At Intersection (intersection related)   \n",
       "\n",
       "    WEATHER ROADCOND                LIGHTCOND  \n",
       "0  Overcast      Wet                 Daylight  \n",
       "1   Raining      Wet  Dark - Street Lights On  \n",
       "2  Overcast      Dry                 Daylight  \n",
       "3     Clear      Dry                 Daylight  \n",
       "4   Raining      Wet                 Daylight  "
      ]
     },
     "execution_count": 72,
     "metadata": {},
     "output_type": "execute_result"
    }
   ],
   "source": [
    "##############  Replace NULL Values with \"Others\"  ######\n",
    "df_sev['ADDRTYPE'] = df_sev['ADDRTYPE'].fillna(0)\n",
    "df_sev['ADDRTYPE'] = df_sev['ADDRTYPE'].replace(0,'Other')\n",
    "\n",
    "df_sev['JUNCTIONTYPE'] = df_sev['JUNCTIONTYPE'].fillna(0)\n",
    "df_sev['JUNCTIONTYPE'] = df_sev['JUNCTIONTYPE'].replace(0,'Other')\n",
    "\n",
    "df_sev['WEATHER'] = df_sev['WEATHER'].fillna(0)\n",
    "df_sev['WEATHER'] = df_sev['WEATHER'].replace(0,'Unspecified')\n",
    "\n",
    "df_sev['ROADCOND'] = df_sev['ROADCOND'].fillna(0)\n",
    "df_sev['ROADCOND'] = df_sev['ROADCOND'].replace(0,'Unspecified')\n",
    "\n",
    "df_sev['LIGHTCOND'] = df_sev['LIGHTCOND'].fillna(0)\n",
    "df_sev['LIGHTCOND'] = df_sev['LIGHTCOND'].replace(0,'Unspecified')\n",
    "\n",
    "\n",
    "df_sev.head(5)\n"
   ]
  },
  {
   "cell_type": "code",
   "execution_count": 73,
   "metadata": {},
   "outputs": [
    {
     "data": {
      "text/plain": [
       "SEVERITYCODE    0\n",
       "ADDRTYPE        0\n",
       "JUNCTIONTYPE    0\n",
       "WEATHER         0\n",
       "ROADCOND        0\n",
       "LIGHTCOND       0\n",
       "dtype: int64"
      ]
     },
     "execution_count": 73,
     "metadata": {},
     "output_type": "execute_result"
    }
   ],
   "source": [
    "df_sev.isnull().sum()"
   ]
  },
  {
   "cell_type": "markdown",
   "metadata": {},
   "source": [
    "### Relationship between WEATHER & SEVERITY of accidents"
   ]
  },
  {
   "cell_type": "code",
   "execution_count": 78,
   "metadata": {},
   "outputs": [
    {
     "data": {
      "text/plain": [
       "<seaborn.axisgrid.FacetGrid at 0x200c9a521c8>"
      ]
     },
     "execution_count": 78,
     "metadata": {},
     "output_type": "execute_result"
    },
    {
     "data": {
      "image/png": "[encoded data removed]",
      "text/plain": [
       "<Figure size 2388x288 with 1 Axes>"
      ]
     },
     "metadata": {
      "needs_background": "light"
     },
     "output_type": "display_data"
    }
   ],
   "source": [
    "import seaborn as sns\n",
    "sns.catplot(x='WEATHER', kind='count',hue='SEVERITYCODE',data=df_sev,height=4,aspect=8)"
   ]
  },
  {
   "cell_type": "markdown",
   "metadata": {},
   "source": [
    "### Relationship between LIGHT Condition & SEVERITY of accidents"
   ]
  },
  {
   "cell_type": "code",
   "execution_count": 79,
   "metadata": {},
   "outputs": [
    {
     "data": {
      "text/plain": [
       "<seaborn.axisgrid.FacetGrid at 0x200c93d0f48>"
      ]
     },
     "execution_count": 79,
     "metadata": {},
     "output_type": "execute_result"
    },
    {
     "data": {
      "image/png": "[encoded data removed]",
      "text/plain": [
       "<Figure size 2388x288 with 1 Axes>"
      ]
     },
     "metadata": {
      "needs_background": "light"
     },
     "output_type": "display_data"
    }
   ],
   "source": [
    "import seaborn as sns\n",
    "sns.catplot(x='LIGHTCOND', kind='count',hue='SEVERITYCODE',data=df_sev,height=4,aspect=8)"
   ]
  },
  {
   "cell_type": "code",
   "execution_count": 63,
   "metadata": {},
   "outputs": [
    {
     "data": {
      "text/plain": [
       "1     111135\n",
       "6      33145\n",
       "4      27714\n",
       "10     15091\n",
       "11      5081\n",
       "9        907\n",
       "3        832\n",
       "2        569\n",
       "8        113\n",
       "0         56\n",
       "7         25\n",
       "5          5\n",
       "Name: WEATHER, dtype: int64"
      ]
     },
     "execution_count": 63,
     "metadata": {},
     "output_type": "execute_result"
    }
   ],
   "source": [
    "df_sev['WEATHER'].value_counts()"
   ]
  },
  {
   "cell_type": "markdown",
   "metadata": {},
   "source": [
    "### Encoding Feature values"
   ]
  },
  {
   "cell_type": "code",
   "execution_count": 51,
   "metadata": {},
   "outputs": [
    {
     "name": "stderr",
     "output_type": "stream",
     "text": [
      "C:\\Users\\venka\\anaconda3\\lib\\site-packages\\ipykernel_launcher.py:6: SettingWithCopyWarning: \n",
      "A value is trying to be set on a copy of a slice from a DataFrame.\n",
      "Try using .loc[row_indexer,col_indexer] = value instead\n",
      "\n",
      "See the caveats in the documentation: https://pandas.pydata.org/pandas-docs/stable/user_guide/indexing.html#returning-a-view-versus-a-copy\n",
      "  \n",
      "C:\\Users\\venka\\anaconda3\\lib\\site-packages\\ipykernel_launcher.py:11: SettingWithCopyWarning: \n",
      "A value is trying to be set on a copy of a slice from a DataFrame.\n",
      "Try using .loc[row_indexer,col_indexer] = value instead\n",
      "\n",
      "See the caveats in the documentation: https://pandas.pydata.org/pandas-docs/stable/user_guide/indexing.html#returning-a-view-versus-a-copy\n",
      "  # This is added back by InteractiveShellApp.init_path()\n",
      "C:\\Users\\venka\\anaconda3\\lib\\site-packages\\ipykernel_launcher.py:15: SettingWithCopyWarning: \n",
      "A value is trying to be set on a copy of a slice from a DataFrame.\n",
      "Try using .loc[row_indexer,col_indexer] = value instead\n",
      "\n",
      "See the caveats in the documentation: https://pandas.pydata.org/pandas-docs/stable/user_guide/indexing.html#returning-a-view-versus-a-copy\n",
      "  from ipykernel import kernelapp as app\n",
      "C:\\Users\\venka\\anaconda3\\lib\\site-packages\\ipykernel_launcher.py:19: SettingWithCopyWarning: \n",
      "A value is trying to be set on a copy of a slice from a DataFrame.\n",
      "Try using .loc[row_indexer,col_indexer] = value instead\n",
      "\n",
      "See the caveats in the documentation: https://pandas.pydata.org/pandas-docs/stable/user_guide/indexing.html#returning-a-view-versus-a-copy\n",
      "C:\\Users\\venka\\anaconda3\\lib\\site-packages\\ipykernel_launcher.py:23: SettingWithCopyWarning: \n",
      "A value is trying to be set on a copy of a slice from a DataFrame.\n",
      "Try using .loc[row_indexer,col_indexer] = value instead\n",
      "\n",
      "See the caveats in the documentation: https://pandas.pydata.org/pandas-docs/stable/user_guide/indexing.html#returning-a-view-versus-a-copy\n",
      "C:\\Users\\venka\\anaconda3\\lib\\site-packages\\ipykernel_launcher.py:27: SettingWithCopyWarning: \n",
      "A value is trying to be set on a copy of a slice from a DataFrame.\n",
      "Try using .loc[row_indexer,col_indexer] = value instead\n",
      "\n",
      "See the caveats in the documentation: https://pandas.pydata.org/pandas-docs/stable/user_guide/indexing.html#returning-a-view-versus-a-copy\n"
     ]
    },
    {
     "data": {
      "text/html": [
       "<div>\n",
       "<style scoped>\n",
       "    .dataframe tbody tr th:only-of-type {\n",
       "        vertical-align: middle;\n",
       "    }\n",
       "\n",
       "    .dataframe tbody tr th {\n",
       "        vertical-align: top;\n",
       "    }\n",
       "\n",
       "    .dataframe thead th {\n",
       "        text-align: right;\n",
       "    }\n",
       "</style>\n",
       "<table border=\"1\" class=\"dataframe\">\n",
       "  <thead>\n",
       "    <tr style=\"text-align: right;\">\n",
       "      <th></th>\n",
       "      <th>SEVERITYCODE</th>\n",
       "      <th>ADDRTYPE</th>\n",
       "      <th>JUNCTIONTYPE</th>\n",
       "      <th>WEATHER</th>\n",
       "      <th>ROADCOND</th>\n",
       "      <th>LIGHTCOND</th>\n",
       "    </tr>\n",
       "  </thead>\n",
       "  <tbody>\n",
       "    <tr>\n",
       "      <th>0</th>\n",
       "      <td>1</td>\n",
       "      <td>2</td>\n",
       "      <td>1</td>\n",
       "      <td>4</td>\n",
       "      <td>9</td>\n",
       "      <td>5</td>\n",
       "    </tr>\n",
       "    <tr>\n",
       "      <th>1</th>\n",
       "      <td>0</td>\n",
       "      <td>1</td>\n",
       "      <td>4</td>\n",
       "      <td>6</td>\n",
       "      <td>9</td>\n",
       "      <td>2</td>\n",
       "    </tr>\n",
       "    <tr>\n",
       "      <th>2</th>\n",
       "      <td>0</td>\n",
       "      <td>1</td>\n",
       "      <td>4</td>\n",
       "      <td>4</td>\n",
       "      <td>0</td>\n",
       "      <td>5</td>\n",
       "    </tr>\n",
       "    <tr>\n",
       "      <th>3</th>\n",
       "      <td>0</td>\n",
       "      <td>1</td>\n",
       "      <td>4</td>\n",
       "      <td>1</td>\n",
       "      <td>0</td>\n",
       "      <td>5</td>\n",
       "    </tr>\n",
       "    <tr>\n",
       "      <th>4</th>\n",
       "      <td>1</td>\n",
       "      <td>2</td>\n",
       "      <td>1</td>\n",
       "      <td>6</td>\n",
       "      <td>9</td>\n",
       "      <td>5</td>\n",
       "    </tr>\n",
       "  </tbody>\n",
       "</table>\n",
       "</div>"
      ],
      "text/plain": [
       "   SEVERITYCODE  ADDRTYPE  JUNCTIONTYPE  WEATHER  ROADCOND  LIGHTCOND\n",
       "0             1         2             1        4         9          5\n",
       "1             0         1             4        6         9          2\n",
       "2             0         1             4        4         0          5\n",
       "3             0         1             4        1         0          5\n",
       "4             1         2             1        6         9          5"
      ]
     },
     "execution_count": 51,
     "metadata": {},
     "output_type": "execute_result"
    }
   ],
   "source": [
    "## Encoding the features into Numarical values###\n",
    "\n",
    "from sklearn import preprocessing\n",
    "\n",
    "\n",
    "severity = preprocessing.LabelEncoder()\n",
    "severity.fit(df_sev['SEVERITYCODE'])\n",
    "df_sev['SEVERITYCODE'] = severity.transform(df_sev['SEVERITYCODE'])\n",
    "\n",
    "\n",
    "addrtype = preprocessing.LabelEncoder()\n",
    "addrtype.fit(df_sev['ADDRTYPE'])\n",
    "df_sev['ADDRTYPE'] = addrtype.transform(df_sev['ADDRTYPE'])\n",
    "\n",
    "junctype = preprocessing.LabelEncoder()\n",
    "junctype.fit(df_sev['JUNCTIONTYPE'])\n",
    "df_sev['JUNCTIONTYPE'] = junctype.transform(df_sev['JUNCTIONTYPE'])\n",
    "\n",
    "weather = preprocessing.LabelEncoder()\n",
    "weather.fit(df_sev['WEATHER'])\n",
    "df_sev['WEATHER'] = weather.transform(df_sev['WEATHER'])\n",
    "\n",
    "roadcond = preprocessing.LabelEncoder()\n",
    "roadcond.fit(df_sev['ROADCOND'])\n",
    "df_sev['ROADCOND'] = roadcond.transform(df_sev['ROADCOND'])\n",
    "\n",
    "lightcond = preprocessing.LabelEncoder()\n",
    "lightcond.fit(df_sev['LIGHTCOND'])\n",
    "df_sev['LIGHTCOND'] = lightcond.transform(df_sev['LIGHTCOND'])\n",
    "\n",
    "\n",
    "df_sev.head(5)\n"
   ]
  },
  {
   "cell_type": "code",
   "execution_count": 52,
   "metadata": {},
   "outputs": [
    {
     "data": {
      "text/html": [
       "<div>\n",
       "<style scoped>\n",
       "    .dataframe tbody tr th:only-of-type {\n",
       "        vertical-align: middle;\n",
       "    }\n",
       "\n",
       "    .dataframe tbody tr th {\n",
       "        vertical-align: top;\n",
       "    }\n",
       "\n",
       "    .dataframe thead th {\n",
       "        text-align: right;\n",
       "    }\n",
       "</style>\n",
       "<table border=\"1\" class=\"dataframe\">\n",
       "  <thead>\n",
       "    <tr style=\"text-align: right;\">\n",
       "      <th></th>\n",
       "      <th>SEVERITYCODE</th>\n",
       "      <th>ADDRTYPE</th>\n",
       "      <th>JUNCTIONTYPE</th>\n",
       "      <th>WEATHER</th>\n",
       "      <th>ROADCOND</th>\n",
       "      <th>LIGHTCOND</th>\n",
       "    </tr>\n",
       "  </thead>\n",
       "  <tbody>\n",
       "    <tr>\n",
       "      <th>SEVERITYCODE</th>\n",
       "      <td>1.000000</td>\n",
       "      <td>0.172032</td>\n",
       "      <td>-0.216118</td>\n",
       "      <td>-0.112507</td>\n",
       "      <td>-0.045574</td>\n",
       "      <td>-0.067817</td>\n",
       "    </tr>\n",
       "    <tr>\n",
       "      <th>ADDRTYPE</th>\n",
       "      <td>0.172032</td>\n",
       "      <td>1.000000</td>\n",
       "      <td>-0.804215</td>\n",
       "      <td>-0.038823</td>\n",
       "      <td>-0.002626</td>\n",
       "      <td>-0.013375</td>\n",
       "    </tr>\n",
       "    <tr>\n",
       "      <th>JUNCTIONTYPE</th>\n",
       "      <td>-0.216118</td>\n",
       "      <td>-0.804215</td>\n",
       "      <td>1.000000</td>\n",
       "      <td>0.134021</td>\n",
       "      <td>0.048077</td>\n",
       "      <td>0.077417</td>\n",
       "    </tr>\n",
       "    <tr>\n",
       "      <th>WEATHER</th>\n",
       "      <td>-0.112507</td>\n",
       "      <td>-0.038823</td>\n",
       "      <td>0.134021</td>\n",
       "      <td>1.000000</td>\n",
       "      <td>0.728901</td>\n",
       "      <td>0.339707</td>\n",
       "    </tr>\n",
       "    <tr>\n",
       "      <th>ROADCOND</th>\n",
       "      <td>-0.045574</td>\n",
       "      <td>-0.002626</td>\n",
       "      <td>0.048077</td>\n",
       "      <td>0.728901</td>\n",
       "      <td>1.000000</td>\n",
       "      <td>0.083132</td>\n",
       "    </tr>\n",
       "    <tr>\n",
       "      <th>LIGHTCOND</th>\n",
       "      <td>-0.067817</td>\n",
       "      <td>-0.013375</td>\n",
       "      <td>0.077417</td>\n",
       "      <td>0.339707</td>\n",
       "      <td>0.083132</td>\n",
       "      <td>1.000000</td>\n",
       "    </tr>\n",
       "  </tbody>\n",
       "</table>\n",
       "</div>"
      ],
      "text/plain": [
       "              SEVERITYCODE  ADDRTYPE  JUNCTIONTYPE   WEATHER  ROADCOND  \\\n",
       "SEVERITYCODE      1.000000  0.172032     -0.216118 -0.112507 -0.045574   \n",
       "ADDRTYPE          0.172032  1.000000     -0.804215 -0.038823 -0.002626   \n",
       "JUNCTIONTYPE     -0.216118 -0.804215      1.000000  0.134021  0.048077   \n",
       "WEATHER          -0.112507 -0.038823      0.134021  1.000000  0.728901   \n",
       "ROADCOND         -0.045574 -0.002626      0.048077  0.728901  1.000000   \n",
       "LIGHTCOND        -0.067817 -0.013375      0.077417  0.339707  0.083132   \n",
       "\n",
       "              LIGHTCOND  \n",
       "SEVERITYCODE  -0.067817  \n",
       "ADDRTYPE      -0.013375  \n",
       "JUNCTIONTYPE   0.077417  \n",
       "WEATHER        0.339707  \n",
       "ROADCOND       0.083132  \n",
       "LIGHTCOND      1.000000  "
      ]
     },
     "execution_count": 52,
     "metadata": {},
     "output_type": "execute_result"
    }
   ],
   "source": [
    "df_sev.corr()"
   ]
  },
  {
   "cell_type": "code",
   "execution_count": 53,
   "metadata": {},
   "outputs": [
    {
     "data": {
      "text/plain": [
       "<matplotlib.axes._subplots.AxesSubplot at 0x200bfbcd308>"
      ]
     },
     "execution_count": 53,
     "metadata": {},
     "output_type": "execute_result"
    },
    {
     "data": {
      "image/png": "[encoded data removed]",
      "text/plain": [
       "<Figure size 432x288 with 2 Axes>"
      ]
     },
     "metadata": {
      "needs_background": "light"
     },
     "output_type": "display_data"
    }
   ],
   "source": [
    "import seaborn as sns\n",
    "\n",
    "sns.heatmap(df_sev.corr(), linewidth=.2, cbar_kws={\"shrink\": 1})"
   ]
  },
  {
   "cell_type": "markdown",
   "metadata": {},
   "source": [
    "## Relationship between WEATHER by SEVERITY of accidents"
   ]
  },
  {
   "cell_type": "code",
   "execution_count": 54,
   "metadata": {},
   "outputs": [],
   "source": [
    "import seaborn as sns"
   ]
  },
  {
   "cell_type": "code",
   "execution_count": null,
   "metadata": {},
   "outputs": [],
   "source": [
    "sns.catplotcat(x='WEATHER', kind='count', )"
   ]
  }
 ],
 "metadata": {
  "kernelspec": {
   "display_name": "Python 3",
   "language": "python",
   "name": "python3"
  },
  "language_info": {
   "codemirror_mode": {
    "name": "ipython",
    "version": 3
   },
   "file_extension": ".py",
   "mimetype": "text/x-python",
   "name": "python",
   "nbconvert_exporter": "python",
   "pygments_lexer": "ipython3",
   "version": "3.7.6"
  }
 },
 "nbformat": 4,
 "nbformat_minor": 4
}
